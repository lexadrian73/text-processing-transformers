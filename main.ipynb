{
 "cells": [
  {
   "cell_type": "markdown",
   "id": "90d90397-e31d-4f9f-be47-52303a7a01df",
   "metadata": {},
   "source": [
    "## Read Data"
   ]
  },
  {
   "cell_type": "code",
   "execution_count": 23,
   "id": "e80e4408-6c5a-4b06-943f-1aab473456b2",
   "metadata": {},
   "outputs": [
    {
     "name": "stderr",
     "output_type": "stream",
     "text": [
      "C:\\Users\\Alexis\\anaconda3\\lib\\site-packages\\IPython\\core\\interactiveshell.py:3185: DtypeWarning: Columns (24,28,42,66,127,153) have mixed types.Specify dtype option on import or set low_memory=False.\n",
      "  has_raised = await self.run_ast_nodes(code_ast.body, cell_name,\n"
     ]
    }
   ],
   "source": [
    "import pandas as pd\n",
    "\n",
    "file = \"data/encuesta_ciencia_abierta_2023.csv\"\n",
    "df   = pd.read_csv(file)\n",
    "\n",
    "p35  = df['P35_¿Podría decirnos brevemente qué es la ciencia abierta para usted?']"
   ]
  },
  {
   "cell_type": "code",
   "execution_count": 24,
   "id": "558f7f2a-db91-4bde-9cc4-5c08a22e99c2",
   "metadata": {},
   "outputs": [
    {
     "data": {
      "text/plain": [
       "0                                               no aplica\n",
       "5       Es un referente que permite comprobar y reabri...\n",
       "7       La ciencia abierta es un mecanismo de ofrecer ...\n",
       "11      La ciencia abierta constituye la trasmisión de...\n",
       "12      Que los conocimientos sean más accesibles y pu...\n",
       "                              ...                        \n",
       "2217    Es el derecho que tenemos todos a compartir in...\n",
       "2218    Ciencia que se encuentra disponible para el pu...\n",
       "2220    Generar las condiciones necesarias para que el...\n",
       "2221    acceder a la información de los trabajos de in...\n",
       "2223    Es un movimiento que busca aperturar la invest...\n",
       "Name: P35_¿Podría decirnos brevemente qué es la ciencia abierta para usted?, Length: 1421, dtype: object"
      ]
     },
     "execution_count": 24,
     "metadata": {},
     "output_type": "execute_result"
    }
   ],
   "source": [
    "p35 = p35.dropna()\n",
    "p35"
   ]
  },
  {
   "cell_type": "code",
   "execution_count": 25,
   "id": "cf58ec00-b109-44b2-a2b4-c2baa7b4f6e4",
   "metadata": {},
   "outputs": [
    {
     "name": "stdout",
     "output_type": "stream",
     "text": [
      "0    no aplica\n",
      "Name: P35_¿Podría decirnos brevemente qué es la ciencia abierta para usted?, dtype: object\n"
     ]
    }
   ],
   "source": [
    "valores_no_aplica = p35[p35 == \"no aplica\"]\n",
    "print(valores_no_aplica)"
   ]
  },
  {
   "cell_type": "markdown",
   "id": "1f4e0d73-8cee-4112-ae80-d57db487e416",
   "metadata": {},
   "source": [
    "!pip install transformers"
   ]
  },
  {
   "cell_type": "code",
   "execution_count": 3,
   "id": "c6c09382-54c8-4350-aa67-424d6f3fd2a5",
   "metadata": {},
   "outputs": [
    {
     "name": "stderr",
     "output_type": "stream",
     "text": [
      "C:\\Users\\Alexis\\anaconda3\\lib\\site-packages\\scipy\\__init__.py:155: UserWarning: A NumPy version >=1.18.5 and <1.25.0 is required for this version of SciPy (detected version 1.26.1\n",
      "  warnings.warn(f\"A NumPy version >={np_minversion} and <{np_maxversion}\"\n"
     ]
    }
   ],
   "source": [
    "from transformers import pipeline\n",
    "import textwrap\n",
    "import numpy as np\n",
    "from pprint import pprint"
   ]
  },
  {
   "cell_type": "code",
   "execution_count": 11,
   "id": "0bc24d2d-af6b-4e40-a45e-0ab6ceef4792",
   "metadata": {},
   "outputs": [
    {
     "data": {
      "application/vnd.jupyter.widget-view+json": {
       "model_id": "c780788ccb954740a6b277e2cb392d5e",
       "version_major": 2,
       "version_minor": 0
      },
      "text/plain": [
       "Downloading (…)lve/main/config.json:   0%|          | 0.00/1.58k [00:00<?, ?B/s]"
      ]
     },
     "metadata": {},
     "output_type": "display_data"
    },
    {
     "data": {
      "application/vnd.jupyter.widget-view+json": {
       "model_id": "cb9e0abeb4284eb28ce155e911d1c6bc",
       "version_major": 2,
       "version_minor": 0
      },
      "text/plain": [
       "Downloading tf_model.h5:   0%|          | 0.00/1.63G [00:00<?, ?B/s]"
      ]
     },
     "metadata": {},
     "output_type": "display_data"
    },
    {
     "name": "stderr",
     "output_type": "stream",
     "text": [
      "All model checkpoint layers were used when initializing TFBartForConditionalGeneration.\n",
      "\n",
      "All the layers of TFBartForConditionalGeneration were initialized from the model checkpoint at facebook/bart-large-cnn.\n",
      "If your task is similar to the task the model of the checkpoint was trained on, you can already use TFBartForConditionalGeneration for predictions without further training.\n"
     ]
    },
    {
     "data": {
      "application/vnd.jupyter.widget-view+json": {
       "model_id": "249b6b2ff9ef49e0af24699e78e1c90a",
       "version_major": 2,
       "version_minor": 0
      },
      "text/plain": [
       "Downloading (…)neration_config.json:   0%|          | 0.00/363 [00:00<?, ?B/s]"
      ]
     },
     "metadata": {},
     "output_type": "display_data"
    },
    {
     "data": {
      "application/vnd.jupyter.widget-view+json": {
       "model_id": "d0a93905d22a4055968b7f9aaf21d36a",
       "version_major": 2,
       "version_minor": 0
      },
      "text/plain": [
       "Downloading (…)olve/main/vocab.json:   0%|          | 0.00/899k [00:00<?, ?B/s]"
      ]
     },
     "metadata": {},
     "output_type": "display_data"
    },
    {
     "data": {
      "application/vnd.jupyter.widget-view+json": {
       "model_id": "165c6836f0e947f284764b4c9dfad0b3",
       "version_major": 2,
       "version_minor": 0
      },
      "text/plain": [
       "Downloading (…)olve/main/merges.txt:   0%|          | 0.00/456k [00:00<?, ?B/s]"
      ]
     },
     "metadata": {},
     "output_type": "display_data"
    },
    {
     "data": {
      "application/vnd.jupyter.widget-view+json": {
       "model_id": "d495fc72338b437598fa260673df96aa",
       "version_major": 2,
       "version_minor": 0
      },
      "text/plain": [
       "Downloading (…)/main/tokenizer.json:   0%|          | 0.00/1.36M [00:00<?, ?B/s]"
      ]
     },
     "metadata": {},
     "output_type": "display_data"
    }
   ],
   "source": [
    "summarizer = pipeline(\"summarization\", model=\"facebook/bart-large-cnn\")"
   ]
  },
  {
   "cell_type": "code",
   "execution_count": 41,
   "id": "b1634de9-a2c7-4061-9340-bed9e5bdcb45",
   "metadata": {},
   "outputs": [
    {
     "name": "stdout",
     "output_type": "stream",
     "text": [
      "no aplica\n",
      "Es un referente que permite comprobar y reabrir esquemas cognoscitivos para reafirmar o refutar resultados probables o no probables dentro del proceso social y educativo de mayor complejidad y que viabilice las formas de reafirmar los conocimientos propios y válidos dentro del proceso del conocer.\n",
      "La ciencia abierta es un mecanismo de ofrecer a la sociedad en general acceso a las investigaciones realizadas por los científicos para su uso o información.\n",
      "La ciencia abierta constituye la trasmisión de conocimientos cientificos de calidad en beneficio a la sociedad y comunidad cientifica\n",
      "Que los conocimientos sean más accesibles y puedan beneficiar a un mayor número de investigaciones\n",
      "Es. La. Productividad. Científica. Democratización del. Conocimiento  que. Brindar. Mas oportunidades para q los demandas. Sociales sea de los. Beneficiar realmente a las. Personas y al. Planeta y no deja nadie atrás que es necesario para transformar todo el proceso científico con mayor. Vinculaciones a las necesidades de la sociedad\n",
      "Ciencia abierta implica prácticas y normas que se alinean con la noción de que más cerebros alrededor del mundo puedan aportar al descubrimiento de los principios científicos que rigen en la naturaleza\n",
      "Desarrollar y crear resultados de estudios para beneficio de la población\n",
      "possibilidad de intercambio de conoscimento sin pasar por pagos\n",
      "En el mundo andino la fuerza más poderosa a la que tiene acceso el ser humano es la minga. La unión de conocimientos, fortalezas y limitaciones ha empujado a crear conocimiento en la humanidad por milenios. La ciencia abierta es un importante avance para democratizar el acceso al conocimiento y brinda la oportunidad a pueblos y nacionalidades de defender sus legados, territorios y ciencias.\n",
      "Poner los avances científicos a las puertas de todo, es decir tener accesibilidad para obtención de la información y los avances\n",
      "La ciencia abierta es considerada un movimiento que promueve el acceso abierto tanto a los resultados de la investigación científica, como al proceso investigativo que los generó (metodología).\n",
      "ES UN MOVIMIENTO QUE TRATA DE  FACILITAR EL ACCESO, LA SOCIALIZACION, LA REPRODUCCION  DE DATOS CIENTIFICOS, INVESTIGATIVOS, ACADEMICOS DE MANERA PUBLICA\n",
      "abceso al conocimiento\n",
      "Ciencia accesible que requiere de mucha colaboración en la investigación científica para poder ayudar a toda la comunidad en general\n",
      "No tengo familiaridad con el término, pero creo que podría estar relacionado con la difusión científica y el acceso a la misma de forma gratuita\n",
      "La ciencia abierta se refiere al acceso de los resultados científicos puestos a toda la comunidad, que le ayude a mejorar y reproducir siempre en beneficio social\n",
      "Es un movimiento que se direcciona al acceso abierto de las producciones científica\n"
     ]
    }
   ],
   "source": [
    "test_df = p35.iloc[:18]\n",
    "\n",
    "doc = '\\n'.join(test_df)\n",
    "print(doc)"
   ]
  },
  {
   "cell_type": "code",
   "execution_count": 43,
   "id": "bb035d65-2b59-4a88-87a8-c20f7b12153f",
   "metadata": {},
   "outputs": [
    {
     "name": "stderr",
     "output_type": "stream",
     "text": [
      "Your max_length is set to 1024, but your input_length is only 965. Since this is a summarization task, where outputs shorter than the input are typically wanted, you might consider decreasing max_length manually, e.g. summarizer('...', max_length=482)\n"
     ]
    },
    {
     "name": "stdout",
     "output_type": "stream",
     "text": [
      "La ciencia abierta es un mecanismo de ofrecer a la sociedad en general acceso a las investigaciones realizadas by los científicos. La cienia abierto constituye la trasmisión of conocimientos cientificos de calidad en beneficio a la Sociedad y comunidad cientIFICa. La unión de conocIMientos, fortalezas y limitaciones ha empujado a crear conoción en la humanidad por milenios. La Ciencia Abiert a es un importante avance para democratizar el accesos al conocimiiento y brinda la oportunidad a pueblos y nacionalidades of defender sus legados, territorios y ciencias. La. Productividad. CientíFica. Brindar. Mas o portunidades para q los demandas. Sociales sea of los. Beneficiar realmente a las Personas y al. Planeta. No deja nadie atrás that es necesario para transformar todo el proceso cientico con mayor. Vinculaciones a las necesidades de la societad. La accesibilidad para obtención of la información and los avances. La Accesibilitad. de la accesibility. de los resultados de la investigación cientifique. no aplica. The Accesibility of the Results of the Studies of Cientifiction. No aplique. The Effect of The Results of The Studies Of The Studies of The Cienifiction On The Conociative. No Aplica, No A Pluralistic. No. Aplicable, No. Pluralist. no Aplicable. The Effects of The Effect Of The Results Of The Study Of The Ciamifcios On Theconocimión on the Conocidos. no. aplicate. The Impact of the Effect of the Study of the Ciencios on the conocidios on the. Conocimiones. on the Social. The effect of the study of the cono. of the Social on the social. The impact of the studies of the cienti.\n"
     ]
    }
   ],
   "source": [
    "resumen = summarizer(doc, max_length = 1024, min_length = 500, do_sample=False)\n",
    "\n",
    "print(resumen[0]['summary_text'])"
   ]
  },
  {
   "cell_type": "code",
   "execution_count": null,
   "id": "af85cb96-8391-4450-b527-30f9db2f0e83",
   "metadata": {},
   "outputs": [],
   "source": []
  }
 ],
 "metadata": {
  "kernelspec": {
   "display_name": "Python 3 (ipykernel)",
   "language": "python",
   "name": "python3"
  },
  "language_info": {
   "codemirror_mode": {
    "name": "ipython",
    "version": 3
   },
   "file_extension": ".py",
   "mimetype": "text/x-python",
   "name": "python",
   "nbconvert_exporter": "python",
   "pygments_lexer": "ipython3",
   "version": "3.9.13"
  }
 },
 "nbformat": 4,
 "nbformat_minor": 5
}
