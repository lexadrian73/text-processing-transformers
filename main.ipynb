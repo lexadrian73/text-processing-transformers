{
 "cells": [
  {
   "cell_type": "markdown",
   "id": "90d90397-e31d-4f9f-be47-52303a7a01df",
   "metadata": {},
   "source": [
    "## Read Data"
   ]
  },
  {
   "cell_type": "code",
   "execution_count": 19,
   "id": "e80e4408-6c5a-4b06-943f-1aab473456b2",
   "metadata": {},
   "outputs": [
    {
     "name": "stderr",
     "output_type": "stream",
     "text": [
      "C:\\Users\\Alexis\\AppData\\Local\\Temp\\ipykernel_4916\\3609514992.py:5: DtypeWarning: Columns (24,28,42,66,127,153) have mixed types. Specify dtype option on import or set low_memory=False.\n",
      "  df   = pd.read_csv(file)\n"
     ]
    }
   ],
   "source": [
    "import pandas as pd\n",
    "import numpy as np\n",
    "\n",
    "file = \"data/encuesta_ciencia_abierta_2023.csv\"\n",
    "df   = pd.read_csv(file)\n",
    "\n",
    "p35 = df[['P35_¿Podría decirnos brevemente qué es la ciencia abierta para usted?']]"
   ]
  },
  {
   "cell_type": "code",
   "execution_count": 20,
   "id": "558f7f2a-db91-4bde-9cc4-5c08a22e99c2",
   "metadata": {},
   "outputs": [
    {
     "name": "stdout",
     "output_type": "stream",
     "text": [
      "                                          pregunta_35\n",
      "0                                           no aplica\n",
      "5   Es un referente que permite comprobar y reabri...\n",
      "7   La ciencia abierta es un mecanismo de ofrecer ...\n",
      "11  La ciencia abierta constituye la trasmisión de...\n",
      "12  Que los conocimientos sean más accesibles y pu...\n"
     ]
    }
   ],
   "source": [
    "p35 = p35.dropna()\n",
    "p35.rename(columns={'P35_¿Podría decirnos brevemente qué es la ciencia abierta para usted?': 'pregunta_35'}, inplace=True)\n",
    "print(p35.head())"
   ]
  },
  {
   "cell_type": "code",
   "execution_count": 21,
   "id": "cf58ec00-b109-44b2-a2b4-c2baa7b4f6e4",
   "metadata": {},
   "outputs": [
    {
     "name": "stdout",
     "output_type": "stream",
     "text": [
      "                pregunta_35\n",
      "0                 no aplica\n",
      "59                       Nn\n",
      "151             AUTOCENSURA\n",
      "342    comunidad científica\n",
      "567       DERECHO UNIVERSAL\n",
      "777      Conocimiento libre\n",
      "788                     s/c\n",
      "1521                Derecho\n",
      "1671       ACceso universal\n",
      "1707             desconozco\n",
      "1780                      .\n",
      "2043  Investigación abierta\n",
      "2152              El futuro\n"
     ]
    }
   ],
   "source": [
    "resp = p35[p35['pregunta_35'].apply(lambda x: len(str(x).split()) < 3)]\n",
    "print(resp)"
   ]
  },
  {
   "cell_type": "code",
   "execution_count": 22,
   "id": "bae97daa-48dd-4871-8fd1-dabf56cde0a9",
   "metadata": {
    "tags": []
   },
   "outputs": [
    {
     "name": "stdout",
     "output_type": "stream",
     "text": [
      "                                            pregunta_35\n",
      "5     Es un referente que permite comprobar y reabri...\n",
      "7     La ciencia abierta es un mecanismo de ofrecer ...\n",
      "11    La ciencia abierta constituye la trasmisión de...\n",
      "12    Que los conocimientos sean más accesibles y pu...\n",
      "14    Es. La. Productividad. Científica. Democratiza...\n",
      "...                                                 ...\n",
      "2217  Es el derecho que tenemos todos a compartir in...\n",
      "2218  Ciencia que se encuentra disponible para el pu...\n",
      "2220  Generar las condiciones necesarias para que el...\n",
      "2221  acceder a la información de los trabajos de in...\n",
      "2223  Es un movimiento que busca aperturar la invest...\n",
      "\n",
      "[1408 rows x 1 columns]\n"
     ]
    }
   ],
   "source": [
    "p35 = p35[p35['pregunta_35'].apply(lambda x: len(str(x).split()) >= 3)]\n",
    "print(p35)"
   ]
  },
  {
   "cell_type": "markdown",
   "id": "38d18481-107b-472d-b557-f74779bfa21e",
   "metadata": {},
   "source": [
    "## Preprocesamiento"
   ]
  },
  {
   "cell_type": "code",
   "execution_count": 23,
   "id": "d5958806-c57f-4eb5-a511-e5f5d214948c",
   "metadata": {
    "tags": []
   },
   "outputs": [],
   "source": [
    "#import nltk\n",
    "#nltk.download('punkt')\n",
    "#nltk.download('stopwords')"
   ]
  },
  {
   "cell_type": "code",
   "execution_count": 24,
   "id": "bcf2b2b4-c76f-4243-8195-7736d066b3d8",
   "metadata": {
    "tags": []
   },
   "outputs": [],
   "source": [
    "import re\n",
    "import nltk\n",
    "from nltk.tokenize import word_tokenize\n",
    "from nltk.corpus import stopwords\n",
    "from nltk.stem import SnowballStemmer\n",
    "\n",
    "def remove_special_characters(text):\n",
    "    text = re.sub(r'[^\\w\\s]', '', text, flags=re.UNICODE)\n",
    "    return text\n",
    "\n",
    "def tokenize(text):\n",
    "    tokens = word_tokenize(text, language='spanish')\n",
    "    return tokens\n",
    "\n",
    "def remove_stopwords(tokens):\n",
    "    stop_words = set(stopwords.words('spanish'))\n",
    "    filtered_tokens = [word for word in tokens if word.lower() not in stop_words]\n",
    "    return filtered_tokens\n",
    "\n",
    "def lemmatize(tokens):\n",
    "    stemmer = SnowballStemmer('spanish')\n",
    "    lemmatized_tokens = [stemmer.stem(word) for word in tokens]\n",
    "    return lemmatized_tokens\n",
    "\n",
    "def to_lowercase(tokens):\n",
    "    lowercase_tokens = [word.lower() for word in tokens]\n",
    "    return lowercase_tokens"
   ]
  },
  {
   "cell_type": "code",
   "execution_count": 25,
   "id": "aa3c2182-adbb-4ba3-aa92-52a789efccca",
   "metadata": {
    "tags": []
   },
   "outputs": [],
   "source": [
    "p35['pregunta_35p'] = p35['pregunta_35'].apply(remove_special_characters)\n",
    "p35['pregunta_35p'] = p35['pregunta_35p'].apply(tokenize)\n",
    "p35['pregunta_35p'] = p35['pregunta_35p'].apply(remove_stopwords)\n",
    "#p35['pregunta_35'] = p35['pregunta_35'].apply(lemmatize)\n",
    "p35['pregunta_35p'] = p35['pregunta_35p'].apply(to_lowercase)"
   ]
  },
  {
   "cell_type": "code",
   "execution_count": 26,
   "id": "cdfce7f5-5457-4622-bbb1-7fe25b45cc7f",
   "metadata": {
    "tags": []
   },
   "outputs": [
    {
     "data": {
      "text/html": [
       "<div>\n",
       "<style scoped>\n",
       "    .dataframe tbody tr th:only-of-type {\n",
       "        vertical-align: middle;\n",
       "    }\n",
       "\n",
       "    .dataframe tbody tr th {\n",
       "        vertical-align: top;\n",
       "    }\n",
       "\n",
       "    .dataframe thead th {\n",
       "        text-align: right;\n",
       "    }\n",
       "</style>\n",
       "<table border=\"1\" class=\"dataframe\">\n",
       "  <thead>\n",
       "    <tr style=\"text-align: right;\">\n",
       "      <th></th>\n",
       "      <th>pregunta_35</th>\n",
       "      <th>pregunta_35p</th>\n",
       "    </tr>\n",
       "  </thead>\n",
       "  <tbody>\n",
       "    <tr>\n",
       "      <th>5</th>\n",
       "      <td>Es un referente que permite comprobar y reabri...</td>\n",
       "      <td>[referente, permite, comprobar, reabrir, esque...</td>\n",
       "    </tr>\n",
       "    <tr>\n",
       "      <th>7</th>\n",
       "      <td>La ciencia abierta es un mecanismo de ofrecer ...</td>\n",
       "      <td>[ciencia, abierta, mecanismo, ofrecer, socieda...</td>\n",
       "    </tr>\n",
       "    <tr>\n",
       "      <th>11</th>\n",
       "      <td>La ciencia abierta constituye la trasmisión de...</td>\n",
       "      <td>[ciencia, abierta, constituye, trasmisión, con...</td>\n",
       "    </tr>\n",
       "    <tr>\n",
       "      <th>12</th>\n",
       "      <td>Que los conocimientos sean más accesibles y pu...</td>\n",
       "      <td>[conocimientos, accesibles, puedan, beneficiar...</td>\n",
       "    </tr>\n",
       "    <tr>\n",
       "      <th>14</th>\n",
       "      <td>Es. La. Productividad. Científica. Democratiza...</td>\n",
       "      <td>[productividad, científica, democratización, c...</td>\n",
       "    </tr>\n",
       "  </tbody>\n",
       "</table>\n",
       "</div>"
      ],
      "text/plain": [
       "                                          pregunta_35  \\\n",
       "5   Es un referente que permite comprobar y reabri...   \n",
       "7   La ciencia abierta es un mecanismo de ofrecer ...   \n",
       "11  La ciencia abierta constituye la trasmisión de...   \n",
       "12  Que los conocimientos sean más accesibles y pu...   \n",
       "14  Es. La. Productividad. Científica. Democratiza...   \n",
       "\n",
       "                                         pregunta_35p  \n",
       "5   [referente, permite, comprobar, reabrir, esque...  \n",
       "7   [ciencia, abierta, mecanismo, ofrecer, socieda...  \n",
       "11  [ciencia, abierta, constituye, trasmisión, con...  \n",
       "12  [conocimientos, accesibles, puedan, beneficiar...  \n",
       "14  [productividad, científica, democratización, c...  "
      ]
     },
     "execution_count": 26,
     "metadata": {},
     "output_type": "execute_result"
    }
   ],
   "source": [
    "p35.head()"
   ]
  },
  {
   "cell_type": "markdown",
   "id": "6f2827ca-71d5-4697-9f19-cad6e624a8b7",
   "metadata": {},
   "source": [
    "## Vectores"
   ]
  },
  {
   "cell_type": "code",
   "execution_count": 27,
   "id": "ff6fc7f9-8bf2-435a-b287-0a6e0caae19c",
   "metadata": {
    "tags": []
   },
   "outputs": [],
   "source": [
    "from gensim.models import Word2Vec\n",
    "\n",
    "data = p35['pregunta_35'].tolist()\n",
    "\n",
    "model = Word2Vec(sentences   = data, \n",
    "                 vector_size = 100, \n",
    "                 window      = 5, \n",
    "                 min_count   = 1, \n",
    "                 workers     = 4)\n",
    "model.save(\"word2vec_model_es\")"
   ]
  },
  {
   "cell_type": "code",
   "execution_count": 29,
   "id": "c046cf1b-59ab-4975-92aa-da17cc0db425",
   "metadata": {
    "tags": []
   },
   "outputs": [],
   "source": [
    "def vectorize(list_of_docs, model):\n",
    "    \"\"\"Generate vectors for list of documents using a Word Embedding\n",
    "\n",
    "    Args:\n",
    "        list_of_docs: List of documents\n",
    "        model: Gensim's Word Embedding\n",
    "\n",
    "    Returns:\n",
    "        List of document vectors\n",
    "    \"\"\"\n",
    "    features = []\n",
    "\n",
    "    for tokens in list_of_docs:\n",
    "        zero_vector = np.zeros(model.vector_size)\n",
    "        vectors = []\n",
    "        for token in tokens:\n",
    "            if token in model.wv:\n",
    "                try:\n",
    "                    vectors.append(model.wv[token])\n",
    "                except KeyError:\n",
    "                    continue\n",
    "        if vectors:\n",
    "            vectors = np.asarray(vectors)\n",
    "            avg_vec = vectors.mean(axis=0)\n",
    "            features.append(avg_vec)\n",
    "        else:\n",
    "            features.append(zero_vector)\n",
    "    return features\n",
    "    \n",
    "#vectorized_docs = vectorize(data, model=model)\n",
    "p35['vector'] = vectorize(p35['pregunta_35'], model=model)\n",
    "#size vector\n",
    "#len(vectorized_docs[0])"
   ]
  },
  {
   "cell_type": "code",
   "execution_count": 35,
   "id": "c863d136-961c-4126-9ab9-5c19a270440c",
   "metadata": {
    "tags": []
   },
   "outputs": [
    {
     "name": "stderr",
     "output_type": "stream",
     "text": [
      "C:\\Users\\Alexis\\anaconda3\\Lib\\site-packages\\sklearn\\cluster\\_kmeans.py:1412: FutureWarning: The default value of `n_init` will change from 10 to 'auto' in 1.4. Set the value of `n_init` explicitly to suppress the warning\n",
      "  super()._check_params_vs_input(X, default_n_init=10)\n"
     ]
    },
    {
     "name": "stdout",
     "output_type": "stream",
     "text": [
      "Num clusters: 2, Coeficiente silhouette: 0.9523488879203796\n"
     ]
    },
    {
     "name": "stderr",
     "output_type": "stream",
     "text": [
      "C:\\Users\\Alexis\\anaconda3\\Lib\\site-packages\\sklearn\\cluster\\_kmeans.py:1412: FutureWarning: The default value of `n_init` will change from 10 to 'auto' in 1.4. Set the value of `n_init` explicitly to suppress the warning\n",
      "  super()._check_params_vs_input(X, default_n_init=10)\n"
     ]
    },
    {
     "name": "stdout",
     "output_type": "stream",
     "text": [
      "Num clusters: 3, Coeficiente silhouette: 0.26414433121681213\n"
     ]
    },
    {
     "name": "stderr",
     "output_type": "stream",
     "text": [
      "C:\\Users\\Alexis\\anaconda3\\Lib\\site-packages\\sklearn\\cluster\\_kmeans.py:1412: FutureWarning: The default value of `n_init` will change from 10 to 'auto' in 1.4. Set the value of `n_init` explicitly to suppress the warning\n",
      "  super()._check_params_vs_input(X, default_n_init=10)\n"
     ]
    },
    {
     "name": "stdout",
     "output_type": "stream",
     "text": [
      "Num clusters: 4, Coeficiente silhouette: 0.2597564160823822\n"
     ]
    },
    {
     "name": "stderr",
     "output_type": "stream",
     "text": [
      "C:\\Users\\Alexis\\anaconda3\\Lib\\site-packages\\sklearn\\cluster\\_kmeans.py:1412: FutureWarning: The default value of `n_init` will change from 10 to 'auto' in 1.4. Set the value of `n_init` explicitly to suppress the warning\n",
      "  super()._check_params_vs_input(X, default_n_init=10)\n"
     ]
    },
    {
     "name": "stdout",
     "output_type": "stream",
     "text": [
      "Num clusters: 5, Coeficiente silhouette: 0.18454065918922424\n"
     ]
    },
    {
     "name": "stderr",
     "output_type": "stream",
     "text": [
      "C:\\Users\\Alexis\\anaconda3\\Lib\\site-packages\\sklearn\\cluster\\_kmeans.py:1412: FutureWarning: The default value of `n_init` will change from 10 to 'auto' in 1.4. Set the value of `n_init` explicitly to suppress the warning\n",
      "  super()._check_params_vs_input(X, default_n_init=10)\n"
     ]
    },
    {
     "name": "stdout",
     "output_type": "stream",
     "text": [
      "Num clusters: 6, Coeficiente silhouette: 0.19022612273693085\n"
     ]
    },
    {
     "name": "stderr",
     "output_type": "stream",
     "text": [
      "C:\\Users\\Alexis\\anaconda3\\Lib\\site-packages\\sklearn\\cluster\\_kmeans.py:1412: FutureWarning: The default value of `n_init` will change from 10 to 'auto' in 1.4. Set the value of `n_init` explicitly to suppress the warning\n",
      "  super()._check_params_vs_input(X, default_n_init=10)\n"
     ]
    },
    {
     "name": "stdout",
     "output_type": "stream",
     "text": [
      "Num clusters: 7, Coeficiente silhouette: 0.14551445841789246\n"
     ]
    },
    {
     "name": "stderr",
     "output_type": "stream",
     "text": [
      "C:\\Users\\Alexis\\anaconda3\\Lib\\site-packages\\sklearn\\cluster\\_kmeans.py:1412: FutureWarning: The default value of `n_init` will change from 10 to 'auto' in 1.4. Set the value of `n_init` explicitly to suppress the warning\n",
      "  super()._check_params_vs_input(X, default_n_init=10)\n"
     ]
    },
    {
     "name": "stdout",
     "output_type": "stream",
     "text": [
      "Num clusters: 8, Coeficiente silhouette: 0.14513874053955078\n"
     ]
    },
    {
     "name": "stderr",
     "output_type": "stream",
     "text": [
      "C:\\Users\\Alexis\\anaconda3\\Lib\\site-packages\\sklearn\\cluster\\_kmeans.py:1412: FutureWarning: The default value of `n_init` will change from 10 to 'auto' in 1.4. Set the value of `n_init` explicitly to suppress the warning\n",
      "  super()._check_params_vs_input(X, default_n_init=10)\n"
     ]
    },
    {
     "name": "stdout",
     "output_type": "stream",
     "text": [
      "Num clusters: 9, Coeficiente silhouette: 0.13648971915245056\n"
     ]
    },
    {
     "name": "stderr",
     "output_type": "stream",
     "text": [
      "C:\\Users\\Alexis\\anaconda3\\Lib\\site-packages\\sklearn\\cluster\\_kmeans.py:1412: FutureWarning: The default value of `n_init` will change from 10 to 'auto' in 1.4. Set the value of `n_init` explicitly to suppress the warning\n",
      "  super()._check_params_vs_input(X, default_n_init=10)\n"
     ]
    },
    {
     "name": "stdout",
     "output_type": "stream",
     "text": [
      "Num clusters: 10, Coeficiente silhouette: 0.10919875651597977\n"
     ]
    },
    {
     "data": {
      "image/png": "[encoded data removed]",
      "text/plain": [
       "<Figure size 640x480 with 1 Axes>"
      ]
     },
     "metadata": {},
     "output_type": "display_data"
    }
   ],
   "source": [
    "import matplotlib.pyplot as plt\n",
    "\n",
    "silhouette_scores = []\n",
    "min_clusters = 2\n",
    "max_clusters = 10\n",
    "\n",
    "for num_clusters in range(min_clusters, max_clusters + 1):\n",
    "    kmeans_model = KMeans(n_clusters=num_clusters, random_state=42)\n",
    "    cluster_labels = kmeans_model.fit_predict(p35['vector'].tolist())\n",
    "\n",
    "    silhouette_avg = silhouette_score(p35['vector'].tolist(), cluster_labels)\n",
    "    silhouette_scores.append(silhouette_avg)\n",
    "\n",
    "    print(f\"Num clusters: {num_clusters}, Coeficiente silhouette: {silhouette_avg}\")\n",
    "\n",
    "plt.plot(range(min_clusters, max_clusters + 1), silhouette_scores, marker='o')\n",
    "plt.title('Num clusters x Coeficiente silhouette')\n",
    "plt.xlabel('Num clusters')\n",
    "plt.ylabel('Coeficiente silhouette')\n",
    "plt.show()"
   ]
  },
  {
   "cell_type": "code",
   "execution_count": 36,
   "id": "aa77ba6a-92f7-4a92-9223-d4ae590f057d",
   "metadata": {
    "tags": []
   },
   "outputs": [
    {
     "name": "stderr",
     "output_type": "stream",
     "text": [
      "C:\\Users\\Alexis\\anaconda3\\Lib\\site-packages\\sklearn\\cluster\\_kmeans.py:1412: FutureWarning: The default value of `n_init` will change from 10 to 'auto' in 1.4. Set the value of `n_init` explicitly to suppress the warning\n",
      "  super()._check_params_vs_input(X, default_n_init=10)\n"
     ]
    },
    {
     "name": "stdout",
     "output_type": "stream",
     "text": [
      "cluster_label\n",
      "0    1353\n",
      "1      55\n",
      "Name: count, dtype: int64\n",
      "Coeficiente silhouette: 0.9523488879203796\n",
      "                                            pregunta_35  \\\n",
      "5     Es un referente que permite comprobar y reabri...   \n",
      "7     La ciencia abierta es un mecanismo de ofrecer ...   \n",
      "11    La ciencia abierta constituye la trasmisión de...   \n",
      "12    Que los conocimientos sean más accesibles y pu...   \n",
      "14    Es. La. Productividad. Científica. Democratiza...   \n",
      "...                                                 ...   \n",
      "2217  Es el derecho que tenemos todos a compartir in...   \n",
      "2218  Ciencia que se encuentra disponible para el pu...   \n",
      "2220  Generar las condiciones necesarias para que el...   \n",
      "2221  acceder a la información de los trabajos de in...   \n",
      "2223  Es un movimiento que busca aperturar la invest...   \n",
      "\n",
      "                                           pregunta_35p  \\\n",
      "5     [referente, permite, comprobar, reabrir, esque...   \n",
      "7     [ciencia, abierta, mecanismo, ofrecer, socieda...   \n",
      "11    [ciencia, abierta, constituye, trasmisión, con...   \n",
      "12    [conocimientos, accesibles, puedan, beneficiar...   \n",
      "14    [productividad, científica, democratización, c...   \n",
      "...                                                 ...   \n",
      "2217  [derecho, compartir, información, desclasifica...   \n",
      "2218  [ciencia, encuentra, disponible, publico, dese...   \n",
      "2220  [generar, condiciones, necesarias, acceso, inf...   \n",
      "2221  [acceder, información, trabajos, investigación...   \n",
      "2223  [movimiento, busca, aperturar, investigación, ...   \n",
      "\n",
      "                                                 vector  cluster_label  \n",
      "5     [-0.029638972, 0.34217784, 0.4542497, 0.105864...              0  \n",
      "7     [-0.05359064, 0.34696084, 0.43800092, 0.125522...              0  \n",
      "11    [-0.066276565, 0.37540057, 0.42413896, 0.12419...              0  \n",
      "12    [-0.050183725, 0.32991812, 0.43271533, 0.08436...              0  \n",
      "14    [-0.08385336, 0.35186458, 0.4271185, 0.1259225...              0  \n",
      "...                                                 ...            ...  \n",
      "2217  [-0.050183944, 0.34706247, 0.45777026, 0.12167...              0  \n",
      "2218  [-0.06710992, 0.32278177, 0.4383882, 0.1292896...              0  \n",
      "2220  [-0.039280545, 0.3334843, 0.46115732, 0.125446...              0  \n",
      "2221  [-0.07112136, 0.36334375, 0.44726947, 0.129027...              0  \n",
      "2223  [-0.066304624, 0.33268157, 0.44308347, 0.11214...              0  \n",
      "\n",
      "[1408 rows x 4 columns]\n"
     ]
    }
   ],
   "source": [
    "from sklearn.cluster import KMeans\n",
    "from sklearn.metrics import silhouette_score\n",
    "\n",
    "num_clusters = 2\n",
    "\n",
    "kmeans_model = KMeans(n_clusters=num_clusters, random_state=42)\n",
    "p35['cluster_label'] = kmeans_model.fit_predict(p35['vector'].tolist())\n",
    "\n",
    "print(p35['cluster_label'].value_counts())\n",
    "p35['cluster_label'] = kmeans_model.labels_\n",
    "\n",
    "silhouette_avg = silhouette_score(p35['vector'].tolist(), p35['cluster_label'])\n",
    "print(f\"Coeficiente silhouette: {silhouette_avg}\")\n",
    "\n",
    "print(p35)"
   ]
  },
  {
   "cell_type": "markdown",
   "id": "a45391eb-2988-471a-933f-63b36372ade0",
   "metadata": {},
   "source": [
    "## Resumen"
   ]
  },
  {
   "cell_type": "code",
   "execution_count": 38,
   "id": "0e69953a-c262-4029-b8f0-24dd8a89debc",
   "metadata": {
    "tags": []
   },
   "outputs": [
    {
     "name": "stdout",
     "output_type": "stream",
     "text": [
      "                                           pregunta_35  \\\n",
      "21   ES UN MOVIMIENTO QUE TRATA DE  FACILITAR EL AC...   \n",
      "84   LA CIENCIA ABIERTA HACE REFERENCIA A LA DIFUSI...   \n",
      "163  LIBERTAD Y ACCESO A LOS CONOCIMIENTOS EN DIVER...   \n",
      "275  ES LA POSIBILIDAD DEL ACCESO A LA INFORMACION ...   \n",
      "297  UN DERECHO QUE DEBE TENER CADA INVESTIGADOR AL...   \n",
      "\n",
      "                                          pregunta_35p  \\\n",
      "21   [movimiento, trata, facilitar, acceso, sociali...   \n",
      "84   [ciencia, abierta, hace, referencia, difusión,...   \n",
      "163  [libertad, acceso, conocimientos, diversas, ar...   \n",
      "275  [posibilidad, acceso, informacion, cientifica,...   \n",
      "297  [derecho, debe, tener, cada, investigador, mom...   \n",
      "\n",
      "                                                vector  cluster_label  \n",
      "21   [-0.36785176, 0.31637734, 0.017032247, 0.16533...              1  \n",
      "84   [-0.36869282, 0.314045, 0.011701014, 0.1742831...              1  \n",
      "163  [-0.36711013, 0.28666776, -0.012588909, 0.1635...              1  \n",
      "275  [-0.36617842, 0.31188816, -0.004136877, 0.1857...              1  \n",
      "297  [-0.38984618, 0.30970368, 0.003272953, 0.15984...              1  \n"
     ]
    }
   ],
   "source": [
    "p35_c1 = p35[p35['cluster_label'] == 1].copy()\n",
    "print(p35_c1.head())"
   ]
  },
  {
   "cell_type": "markdown",
   "id": "1f4e0d73-8cee-4112-ae80-d57db487e416",
   "metadata": {},
   "source": [
    "!pip install transformers"
   ]
  },
  {
   "cell_type": "code",
   "execution_count": 3,
   "id": "c6c09382-54c8-4350-aa67-424d6f3fd2a5",
   "metadata": {},
   "outputs": [
    {
     "name": "stderr",
     "output_type": "stream",
     "text": [
      "C:\\Users\\Alexis\\anaconda3\\lib\\site-packages\\scipy\\__init__.py:155: UserWarning: A NumPy version >=1.18.5 and <1.25.0 is required for this version of SciPy (detected version 1.26.1\n",
      "  warnings.warn(f\"A NumPy version >={np_minversion} and <{np_maxversion}\"\n"
     ]
    }
   ],
   "source": [
    "from transformers import pipeline\n",
    "import textwrap\n",
    "import numpy as np\n",
    "from pprint import pprint"
   ]
  },
  {
   "cell_type": "code",
   "execution_count": 11,
   "id": "0bc24d2d-af6b-4e40-a45e-0ab6ceef4792",
   "metadata": {},
   "outputs": [
    {
     "data": {
      "application/vnd.jupyter.widget-view+json": {
       "model_id": "c780788ccb954740a6b277e2cb392d5e",
       "version_major": 2,
       "version_minor": 0
      },
      "text/plain": [
       "Downloading (…)lve/main/config.json:   0%|          | 0.00/1.58k [00:00<?, ?B/s]"
      ]
     },
     "metadata": {},
     "output_type": "display_data"
    },
    {
     "data": {
      "application/vnd.jupyter.widget-view+json": {
       "model_id": "cb9e0abeb4284eb28ce155e911d1c6bc",
       "version_major": 2,
       "version_minor": 0
      },
      "text/plain": [
       "Downloading tf_model.h5:   0%|          | 0.00/1.63G [00:00<?, ?B/s]"
      ]
     },
     "metadata": {},
     "output_type": "display_data"
    },
    {
     "name": "stderr",
     "output_type": "stream",
     "text": [
      "All model checkpoint layers were used when initializing TFBartForConditionalGeneration.\n",
      "\n",
      "All the layers of TFBartForConditionalGeneration were initialized from the model checkpoint at facebook/bart-large-cnn.\n",
      "If your task is similar to the task the model of the checkpoint was trained on, you can already use TFBartForConditionalGeneration for predictions without further training.\n"
     ]
    },
    {
     "data": {
      "application/vnd.jupyter.widget-view+json": {
       "model_id": "249b6b2ff9ef49e0af24699e78e1c90a",
       "version_major": 2,
       "version_minor": 0
      },
      "text/plain": [
       "Downloading (…)neration_config.json:   0%|          | 0.00/363 [00:00<?, ?B/s]"
      ]
     },
     "metadata": {},
     "output_type": "display_data"
    },
    {
     "data": {
      "application/vnd.jupyter.widget-view+json": {
       "model_id": "d0a93905d22a4055968b7f9aaf21d36a",
       "version_major": 2,
       "version_minor": 0
      },
      "text/plain": [
       "Downloading (…)olve/main/vocab.json:   0%|          | 0.00/899k [00:00<?, ?B/s]"
      ]
     },
     "metadata": {},
     "output_type": "display_data"
    },
    {
     "data": {
      "application/vnd.jupyter.widget-view+json": {
       "model_id": "165c6836f0e947f284764b4c9dfad0b3",
       "version_major": 2,
       "version_minor": 0
      },
      "text/plain": [
       "Downloading (…)olve/main/merges.txt:   0%|          | 0.00/456k [00:00<?, ?B/s]"
      ]
     },
     "metadata": {},
     "output_type": "display_data"
    },
    {
     "data": {
      "application/vnd.jupyter.widget-view+json": {
       "model_id": "d495fc72338b437598fa260673df96aa",
       "version_major": 2,
       "version_minor": 0
      },
      "text/plain": [
       "Downloading (…)/main/tokenizer.json:   0%|          | 0.00/1.36M [00:00<?, ?B/s]"
      ]
     },
     "metadata": {},
     "output_type": "display_data"
    }
   ],
   "source": [
    "summarizer = pipeline(\"summarization\", model=\"facebook/bart-large-cnn\")"
   ]
  },
  {
   "cell_type": "code",
   "execution_count": 41,
   "id": "b1634de9-a2c7-4061-9340-bed9e5bdcb45",
   "metadata": {},
   "outputs": [
    {
     "name": "stdout",
     "output_type": "stream",
     "text": [
      "no aplica\n",
      "Es un referente que permite comprobar y reabrir esquemas cognoscitivos para reafirmar o refutar resultados probables o no probables dentro del proceso social y educativo de mayor complejidad y que viabilice las formas de reafirmar los conocimientos propios y válidos dentro del proceso del conocer.\n",
      "La ciencia abierta es un mecanismo de ofrecer a la sociedad en general acceso a las investigaciones realizadas por los científicos para su uso o información.\n",
      "La ciencia abierta constituye la trasmisión de conocimientos cientificos de calidad en beneficio a la sociedad y comunidad cientifica\n",
      "Que los conocimientos sean más accesibles y puedan beneficiar a un mayor número de investigaciones\n",
      "Es. La. Productividad. Científica. Democratización del. Conocimiento  que. Brindar. Mas oportunidades para q los demandas. Sociales sea de los. Beneficiar realmente a las. Personas y al. Planeta y no deja nadie atrás que es necesario para transformar todo el proceso científico con mayor. Vinculaciones a las necesidades de la sociedad\n",
      "Ciencia abierta implica prácticas y normas que se alinean con la noción de que más cerebros alrededor del mundo puedan aportar al descubrimiento de los principios científicos que rigen en la naturaleza\n",
      "Desarrollar y crear resultados de estudios para beneficio de la población\n",
      "possibilidad de intercambio de conoscimento sin pasar por pagos\n",
      "En el mundo andino la fuerza más poderosa a la que tiene acceso el ser humano es la minga. La unión de conocimientos, fortalezas y limitaciones ha empujado a crear conocimiento en la humanidad por milenios. La ciencia abierta es un importante avance para democratizar el acceso al conocimiento y brinda la oportunidad a pueblos y nacionalidades de defender sus legados, territorios y ciencias.\n",
      "Poner los avances científicos a las puertas de todo, es decir tener accesibilidad para obtención de la información y los avances\n",
      "La ciencia abierta es considerada un movimiento que promueve el acceso abierto tanto a los resultados de la investigación científica, como al proceso investigativo que los generó (metodología).\n",
      "ES UN MOVIMIENTO QUE TRATA DE  FACILITAR EL ACCESO, LA SOCIALIZACION, LA REPRODUCCION  DE DATOS CIENTIFICOS, INVESTIGATIVOS, ACADEMICOS DE MANERA PUBLICA\n",
      "abceso al conocimiento\n",
      "Ciencia accesible que requiere de mucha colaboración en la investigación científica para poder ayudar a toda la comunidad en general\n",
      "No tengo familiaridad con el término, pero creo que podría estar relacionado con la difusión científica y el acceso a la misma de forma gratuita\n",
      "La ciencia abierta se refiere al acceso de los resultados científicos puestos a toda la comunidad, que le ayude a mejorar y reproducir siempre en beneficio social\n",
      "Es un movimiento que se direcciona al acceso abierto de las producciones científica\n"
     ]
    }
   ],
   "source": [
    "test_df = p35.iloc[:18]\n",
    "\n",
    "doc = '\\n'.join(test_df)\n",
    "print(doc)"
   ]
  },
  {
   "cell_type": "code",
   "execution_count": 43,
   "id": "bb035d65-2b59-4a88-87a8-c20f7b12153f",
   "metadata": {},
   "outputs": [
    {
     "name": "stderr",
     "output_type": "stream",
     "text": [
      "Your max_length is set to 1024, but your input_length is only 965. Since this is a summarization task, where outputs shorter than the input are typically wanted, you might consider decreasing max_length manually, e.g. summarizer('...', max_length=482)\n"
     ]
    },
    {
     "name": "stdout",
     "output_type": "stream",
     "text": [
      "La ciencia abierta es un mecanismo de ofrecer a la sociedad en general acceso a las investigaciones realizadas by los científicos. La cienia abierto constituye la trasmisión of conocimientos cientificos de calidad en beneficio a la Sociedad y comunidad cientIFICa. La unión de conocIMientos, fortalezas y limitaciones ha empujado a crear conoción en la humanidad por milenios. La Ciencia Abiert a es un importante avance para democratizar el accesos al conocimiiento y brinda la oportunidad a pueblos y nacionalidades of defender sus legados, territorios y ciencias. La. Productividad. CientíFica. Brindar. Mas o portunidades para q los demandas. Sociales sea of los. Beneficiar realmente a las Personas y al. Planeta. No deja nadie atrás that es necesario para transformar todo el proceso cientico con mayor. Vinculaciones a las necesidades de la societad. La accesibilidad para obtención of la información and los avances. La Accesibilitad. de la accesibility. de los resultados de la investigación cientifique. no aplica. The Accesibility of the Results of the Studies of Cientifiction. No aplique. The Effect of The Results of The Studies Of The Studies of The Cienifiction On The Conociative. No Aplica, No A Pluralistic. No. Aplicable, No. Pluralist. no Aplicable. The Effects of The Effect Of The Results Of The Study Of The Ciamifcios On Theconocimión on the Conocidos. no. aplicate. The Impact of the Effect of the Study of the Ciencios on the conocidios on the. Conocimiones. on the Social. The effect of the study of the cono. of the Social on the social. The impact of the studies of the cienti.\n"
     ]
    }
   ],
   "source": [
    "resumen = summarizer(doc, max_length = 1024, min_length = 500, do_sample=False)\n",
    "\n",
    "print(resumen[0]['summary_text'])"
   ]
  },
  {
   "cell_type": "code",
   "execution_count": null,
   "id": "af85cb96-8391-4450-b527-30f9db2f0e83",
   "metadata": {},
   "outputs": [],
   "source": []
  }
 ],
 "metadata": {
  "kernelspec": {
   "display_name": "Python 3 (ipykernel)",
   "language": "python",
   "name": "python3"
  },
  "language_info": {
   "codemirror_mode": {
    "name": "ipython",
    "version": 3
   },
   "file_extension": ".py",
   "mimetype": "text/x-python",
   "name": "python",
   "nbconvert_exporter": "python",
   "pygments_lexer": "ipython3",
   "version": "3.11.5"
  }
 },
 "nbformat": 4,
 "nbformat_minor": 5
}
